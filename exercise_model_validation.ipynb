{
  "nbformat": 4,
  "nbformat_minor": 0,
  "metadata": {
    "kernelspec": {
      "display_name": "Python 3",
      "language": "python",
      "name": "python3"
    },
    "language_info": {
      "codemirror_mode": {
        "name": "ipython",
        "version": 3
      },
      "file_extension": ".py",
      "mimetype": "text/x-python",
      "name": "python",
      "nbconvert_exporter": "python",
      "pygments_lexer": "ipython3",
      "version": "3.6.5"
    },
    "colab": {
      "name": "exercise-model-validation.ipynb",
      "provenance": [],
      "include_colab_link": true
    }
  },
  "cells": [
    {
      "cell_type": "markdown",
      "metadata": {
        "id": "view-in-github",
        "colab_type": "text"
      },
      "source": [
        "<a href=\"https://colab.research.google.com/github/mirckrose/machinelearning-week1/blob/main/exercise_model_validation.ipynb\" target=\"_parent\"><img src=\"https://colab.research.google.com/assets/colab-badge.svg\" alt=\"Open In Colab\"/></a>"
      ]
    },
    {
      "cell_type": "code",
      "metadata": {
        "colab": {
          "base_uri": "https://localhost:8080/"
        },
        "id": "reVwqahyByaK",
        "outputId": "3bb449a3-73ad-46a6-dd9e-0eb790405b34"
      },
      "source": [
        "# if you're using Google Colab run this cell to install extra libraries\n",
        "!pip install git+https://github.com/ML-Challenge/learntools.git"
      ],
      "execution_count": 1,
      "outputs": [
        {
          "output_type": "stream",
          "name": "stdout",
          "text": [
            "Collecting git+https://github.com/ML-Challenge/learntools.git\n",
            "  Cloning https://github.com/ML-Challenge/learntools.git to /tmp/pip-req-build-y3m9047y\n",
            "  Running command git clone -q https://github.com/ML-Challenge/learntools.git /tmp/pip-req-build-y3m9047y\n",
            "Building wheels for collected packages: learntools\n",
            "  Building wheel for learntools (setup.py) ... \u001b[?25l\u001b[?25hdone\n",
            "  Created wheel for learntools: filename=learntools-0.3.4-py3-none-any.whl size=207310 sha256=718b7a6bb619bd3db8f00a64d767afa44cb1457248a5155d7833cea7218861a1\n",
            "  Stored in directory: /tmp/pip-ephem-wheel-cache-wzyt78iw/wheels/5e/42/53/aa3198486cfc460e19152f9f799b8d0f549cb88f492acb6033\n",
            "Successfully built learntools\n",
            "Installing collected packages: learntools\n",
            "Successfully installed learntools-0.3.4\n"
          ]
        }
      ]
    },
    {
      "cell_type": "markdown",
      "metadata": {
        "id": "dYVjEDN0BjpI"
      },
      "source": [
        "## Recap\n",
        "You've built a model. In this exercise you will test how good your model is.\n",
        "\n",
        "Run the cell below to set up your coding environment where the previous exercise left off."
      ]
    },
    {
      "cell_type": "code",
      "metadata": {
        "colab": {
          "base_uri": "https://localhost:8080/"
        },
        "id": "yOtqdLJ9BjpJ",
        "outputId": "f57d5b1b-ce00-41c3-c9fa-7c7e071a88d2"
      },
      "source": [
        "# Code you have previously used to load data\n",
        "import pandas as pd\n",
        "from sklearn.tree import DecisionTreeRegressor\n",
        "\n",
        "# Path of the file to read\n",
        "iowa_file_path = '/content/train.csv'\n",
        "\n",
        "home_data = pd.read_csv(iowa_file_path)\n",
        "y = home_data.SalePrice\n",
        "feature_columns = ['LotArea', 'YearBuilt', '1stFlrSF', '2ndFlrSF', 'FullBath', 'BedroomAbvGr', 'TotRmsAbvGrd']\n",
        "X = home_data[feature_columns]\n",
        "\n",
        "# Specify Model\n",
        "iowa_model = DecisionTreeRegressor()\n",
        "# Fit Model\n",
        "iowa_model.fit(X, y)\n",
        "\n",
        "print(\"First in-sample predictions:\", iowa_model.predict(X.head()))\n",
        "print(\"Actual target values for those homes:\", y.head().tolist())\n",
        "\n",
        "# Set up code checking\n",
        "from learntools.core import binder\n",
        "binder.bind(globals())\n",
        "from learntools.machine_learning.ex4 import *\n",
        "print(\"Setup Complete\")"
      ],
      "execution_count": 3,
      "outputs": [
        {
          "output_type": "stream",
          "name": "stdout",
          "text": [
            "First in-sample predictions: [208500. 181500. 223500. 140000. 250000.]\n",
            "Actual target values for those homes: [208500, 181500, 223500, 140000, 250000]\n",
            "Setup Complete\n"
          ]
        }
      ]
    },
    {
      "cell_type": "markdown",
      "metadata": {
        "id": "dN5WzWGMBjpK"
      },
      "source": [
        "# Exercises\n",
        "\n",
        "## Step 1: Split Your Data\n",
        "Use the `train_test_split` function to split up your data.\n",
        "\n",
        "Give it the argument `random_state=1` so the `check` functions know what to expect when verifying your code.\n",
        "\n",
        "Recall, your features are loaded in the DataFrame **X** and your target is loaded in **y**.\n"
      ]
    },
    {
      "cell_type": "code",
      "metadata": {
        "colab": {
          "base_uri": "https://localhost:8080/",
          "height": 46
        },
        "id": "mwg2IeZIBjpL",
        "outputId": "985fe567-f102-4759-9035-05d78fc07f7b"
      },
      "source": [
        "# Import the train_test_split function and uncomment\n",
        "from sklearn.metrics import mean_absolute_error\n",
        "from sklearn.model_selection import train_test_split\n",
        "\n",
        "\n",
        "# fill in and uncomment\n",
        "train_X, val_X, train_y, val_y = train_test_split(X, y, random_state=1)\n",
        "\n",
        "# Check your answer\n",
        "step_1.check()"
      ],
      "execution_count": 4,
      "outputs": [
        {
          "output_type": "display_data",
          "data": {
            "application/javascript": [
              "parent.postMessage({\"jupyterEvent\": \"custom.exercise_interaction\", \"data\": {\"outcomeType\": 1, \"valueTowardsCompletion\": 0.25, \"interactionType\": 1, \"questionType\": 2, \"questionId\": \"1_SplitData\", \"learnToolsVersion\": \"0.3.4\", \"failureMessage\": \"\", \"exceptionClass\": \"\", \"trace\": \"\"}}, \"*\")"
            ],
            "text/plain": [
              "<IPython.core.display.Javascript object>"
            ]
          },
          "metadata": {}
        },
        {
          "output_type": "display_data",
          "data": {
            "text/markdown": "<span style=\"color:#33cc33\">Correct</span>",
            "text/plain": [
              "Correct"
            ]
          },
          "metadata": {}
        }
      ]
    },
    {
      "cell_type": "code",
      "metadata": {
        "colab": {
          "base_uri": "https://localhost:8080/",
          "height": 102
        },
        "id": "T5zSJ7O2BjpL",
        "outputId": "46b417d9-498a-481a-d19e-f16cf4f61ad3"
      },
      "source": [
        "# The lines below will show you a hint or the solution.\n",
        "step_1.hint() \n",
        "step_1.solution()"
      ],
      "execution_count": 5,
      "outputs": [
        {
          "output_type": "display_data",
          "data": {
            "application/javascript": [
              "parent.postMessage({\"jupyterEvent\": \"custom.exercise_interaction\", \"data\": {\"interactionType\": 2, \"questionType\": 2, \"questionId\": \"1_SplitData\", \"learnToolsVersion\": \"0.3.4\", \"valueTowardsCompletion\": 0.0, \"failureMessage\": \"\", \"exceptionClass\": \"\", \"trace\": \"\", \"outcomeType\": 4}}, \"*\")"
            ],
            "text/plain": [
              "<IPython.core.display.Javascript object>"
            ]
          },
          "metadata": {}
        },
        {
          "output_type": "display_data",
          "data": {
            "text/markdown": "<span style=\"color:#3366cc\">Hint:</span> The function you need to import is part of sklearn. When calling the function, the arguments are X and y. Ensure you set the random_state to 1.",
            "text/plain": [
              "Hint: The function you need to import is part of sklearn. When calling the function, the arguments are X and y. Ensure you set the random_state to 1."
            ]
          },
          "metadata": {}
        },
        {
          "output_type": "display_data",
          "data": {
            "application/javascript": [
              "parent.postMessage({\"jupyterEvent\": \"custom.exercise_interaction\", \"data\": {\"interactionType\": 3, \"questionType\": 2, \"questionId\": \"1_SplitData\", \"learnToolsVersion\": \"0.3.4\", \"valueTowardsCompletion\": 0.0, \"failureMessage\": \"\", \"exceptionClass\": \"\", \"trace\": \"\", \"outcomeType\": 4}}, \"*\")"
            ],
            "text/plain": [
              "<IPython.core.display.Javascript object>"
            ]
          },
          "metadata": {}
        },
        {
          "output_type": "display_data",
          "data": {
            "text/markdown": "<span style=\"color:#33cc99\">Solution:</span> \n```python\nfrom sklearn.model_selection import train_test_split\ntrain_X, val_X, train_y, val_y = train_test_split(X, y, random_state=1)\n```",
            "text/plain": [
              "Solution: \n",
              "```python\n",
              "from sklearn.model_selection import train_test_split\n",
              "train_X, val_X, train_y, val_y = train_test_split(X, y, random_state=1)\n",
              "```"
            ]
          },
          "metadata": {}
        }
      ]
    },
    {
      "cell_type": "markdown",
      "metadata": {
        "id": "KifLSBaZBjpM"
      },
      "source": [
        "## Step 2: Specify and Fit the Model\n",
        "\n",
        "Create a `DecisionTreeRegressor` model and fit it to the relevant data.\n",
        "Set `random_state` to 1 again when creating the model."
      ]
    },
    {
      "cell_type": "code",
      "metadata": {
        "colab": {
          "base_uri": "https://localhost:8080/",
          "height": 113
        },
        "id": "m019w3YRBjpM",
        "outputId": "ba9b48e7-0871-4bc3-e235-e4cb320a895c"
      },
      "source": [
        "# Specify Model\n",
        "iowa_model = DecisionTreeRegressor(random_state=1)\n",
        "# Fit Model\n",
        "iowa_model.fit(train_X, train_y)\n",
        "# Check your answer\n",
        "step_2.check()"
      ],
      "execution_count": 6,
      "outputs": [
        {
          "output_type": "stream",
          "name": "stdout",
          "text": [
            "[186500. 184000. 130000.  92000. 164500. 220000. 335000. 144152. 215000.\n",
            " 262000.]\n",
            "[186500. 184000. 130000.  92000. 164500. 220000. 335000. 144152. 215000.\n",
            " 262000.]\n"
          ]
        },
        {
          "output_type": "display_data",
          "data": {
            "application/javascript": [
              "parent.postMessage({\"jupyterEvent\": \"custom.exercise_interaction\", \"data\": {\"outcomeType\": 1, \"valueTowardsCompletion\": 0.25, \"interactionType\": 1, \"questionType\": 2, \"questionId\": \"2_FitModelWithTrain\", \"learnToolsVersion\": \"0.3.4\", \"failureMessage\": \"\", \"exceptionClass\": \"\", \"trace\": \"\"}}, \"*\")"
            ],
            "text/plain": [
              "<IPython.core.display.Javascript object>"
            ]
          },
          "metadata": {}
        },
        {
          "output_type": "display_data",
          "data": {
            "text/markdown": "<span style=\"color:#33cc33\">Correct</span>",
            "text/plain": [
              "Correct"
            ]
          },
          "metadata": {}
        }
      ]
    },
    {
      "cell_type": "code",
      "metadata": {
        "colab": {
          "base_uri": "https://localhost:8080/",
          "height": 102
        },
        "id": "KlVqQXUVBjpN",
        "outputId": "6e137f5c-938e-4c32-d98d-3ae73f1c07da"
      },
      "source": [
        "step_2.hint()\n",
        "step_2.solution()"
      ],
      "execution_count": 7,
      "outputs": [
        {
          "output_type": "display_data",
          "data": {
            "application/javascript": [
              "parent.postMessage({\"jupyterEvent\": \"custom.exercise_interaction\", \"data\": {\"interactionType\": 2, \"questionType\": 2, \"questionId\": \"2_FitModelWithTrain\", \"learnToolsVersion\": \"0.3.4\", \"valueTowardsCompletion\": 0.0, \"failureMessage\": \"\", \"exceptionClass\": \"\", \"trace\": \"\", \"outcomeType\": 4}}, \"*\")"
            ],
            "text/plain": [
              "<IPython.core.display.Javascript object>"
            ]
          },
          "metadata": {}
        },
        {
          "output_type": "display_data",
          "data": {
            "text/markdown": "<span style=\"color:#3366cc\">Hint:</span> Remember, you fit with training data. You will test with validation data soon",
            "text/plain": [
              "Hint: Remember, you fit with training data. You will test with validation data soon"
            ]
          },
          "metadata": {}
        },
        {
          "output_type": "display_data",
          "data": {
            "application/javascript": [
              "parent.postMessage({\"jupyterEvent\": \"custom.exercise_interaction\", \"data\": {\"interactionType\": 3, \"questionType\": 2, \"questionId\": \"2_FitModelWithTrain\", \"learnToolsVersion\": \"0.3.4\", \"valueTowardsCompletion\": 0.0, \"failureMessage\": \"\", \"exceptionClass\": \"\", \"trace\": \"\", \"outcomeType\": 4}}, \"*\")"
            ],
            "text/plain": [
              "<IPython.core.display.Javascript object>"
            ]
          },
          "metadata": {}
        },
        {
          "output_type": "display_data",
          "data": {
            "text/markdown": "<span style=\"color:#33cc99\">Solution:</span> \n```python\niowa_model = DecisionTreeRegressor(random_state=1)\niowa_model.fit(train_X, train_y)\n```",
            "text/plain": [
              "Solution: \n",
              "```python\n",
              "iowa_model = DecisionTreeRegressor(random_state=1)\n",
              "iowa_model.fit(train_X, train_y)\n",
              "```"
            ]
          },
          "metadata": {}
        }
      ]
    },
    {
      "cell_type": "markdown",
      "metadata": {
        "id": "X7bCPD2KBjpN"
      },
      "source": [
        "## Step 3: Make Predictions with Validation data\n"
      ]
    },
    {
      "cell_type": "code",
      "metadata": {
        "colab": {
          "base_uri": "https://localhost:8080/",
          "height": 46
        },
        "id": "m1KYiBEuBjpO",
        "outputId": "2573689f-361d-45f1-99d7-7aa02bf9b2ec"
      },
      "source": [
        "# Predict with all validation observations\n",
        "val_predictions = iowa_model.predict(val_X)\n",
        "\n",
        "# Check your answer\n",
        "step_3.check()"
      ],
      "execution_count": 8,
      "outputs": [
        {
          "output_type": "display_data",
          "data": {
            "application/javascript": [
              "parent.postMessage({\"jupyterEvent\": \"custom.exercise_interaction\", \"data\": {\"outcomeType\": 1, \"valueTowardsCompletion\": 0.25, \"interactionType\": 1, \"questionType\": 2, \"questionId\": \"3_ValPreds\", \"learnToolsVersion\": \"0.3.4\", \"failureMessage\": \"\", \"exceptionClass\": \"\", \"trace\": \"\"}}, \"*\")"
            ],
            "text/plain": [
              "<IPython.core.display.Javascript object>"
            ]
          },
          "metadata": {}
        },
        {
          "output_type": "display_data",
          "data": {
            "text/markdown": "<span style=\"color:#33cc33\">Correct</span>",
            "text/plain": [
              "Correct"
            ]
          },
          "metadata": {}
        }
      ]
    },
    {
      "cell_type": "code",
      "metadata": {
        "colab": {
          "base_uri": "https://localhost:8080/",
          "height": 86
        },
        "id": "cGBKNzMZBjpO",
        "outputId": "74e8de33-e301-4283-a0b1-e86d71ccef8b"
      },
      "source": [
        "step_3.hint()\n",
        "step_3.solution()"
      ],
      "execution_count": 9,
      "outputs": [
        {
          "output_type": "display_data",
          "data": {
            "application/javascript": [
              "parent.postMessage({\"jupyterEvent\": \"custom.exercise_interaction\", \"data\": {\"interactionType\": 2, \"questionType\": 2, \"questionId\": \"3_ValPreds\", \"learnToolsVersion\": \"0.3.4\", \"valueTowardsCompletion\": 0.0, \"failureMessage\": \"\", \"exceptionClass\": \"\", \"trace\": \"\", \"outcomeType\": 4}}, \"*\")"
            ],
            "text/plain": [
              "<IPython.core.display.Javascript object>"
            ]
          },
          "metadata": {}
        },
        {
          "output_type": "display_data",
          "data": {
            "text/markdown": "<span style=\"color:#3366cc\">Hint:</span> Run predict on the right validation data object.",
            "text/plain": [
              "Hint: Run predict on the right validation data object."
            ]
          },
          "metadata": {}
        },
        {
          "output_type": "display_data",
          "data": {
            "application/javascript": [
              "parent.postMessage({\"jupyterEvent\": \"custom.exercise_interaction\", \"data\": {\"interactionType\": 3, \"questionType\": 2, \"questionId\": \"3_ValPreds\", \"learnToolsVersion\": \"0.3.4\", \"valueTowardsCompletion\": 0.0, \"failureMessage\": \"\", \"exceptionClass\": \"\", \"trace\": \"\", \"outcomeType\": 4}}, \"*\")"
            ],
            "text/plain": [
              "<IPython.core.display.Javascript object>"
            ]
          },
          "metadata": {}
        },
        {
          "output_type": "display_data",
          "data": {
            "text/markdown": "<span style=\"color:#33cc99\">Solution:</span> \n```python\nval_predictions = iowa_model.predict(val_X)\n```",
            "text/plain": [
              "Solution: \n",
              "```python\n",
              "val_predictions = iowa_model.predict(val_X)\n",
              "```"
            ]
          },
          "metadata": {}
        }
      ]
    },
    {
      "cell_type": "markdown",
      "metadata": {
        "id": "WULw7JSmBjpO"
      },
      "source": [
        "Inspect your predictions and actual values from validation data."
      ]
    },
    {
      "cell_type": "code",
      "metadata": {
        "colab": {
          "base_uri": "https://localhost:8080/"
        },
        "id": "AX7aZwr0BjpP",
        "outputId": "1d58db5e-3d02-49cb-821c-52ea238b208f"
      },
      "source": [
        "# print the top few validation predictions\n",
        "print(val_predictions)\n",
        "# print the top few actual prices from validation data\n",
        "print(val_y)"
      ],
      "execution_count": 10,
      "outputs": [
        {
          "output_type": "stream",
          "name": "stdout",
          "text": [
            "[186500. 184000. 130000.  92000. 164500. 220000. 335000. 144152. 215000.\n",
            " 262000. 180000. 121000. 175900. 210000. 248900. 131000. 100000. 149350.\n",
            " 235000. 156000. 149900. 265979. 193500. 377500. 100000. 162900. 145000.\n",
            " 180000. 582933. 146000. 140000.  91500. 112500. 113000. 145000. 312500.\n",
            " 110000. 132000. 305000. 128000. 162900. 115000. 110000. 124000. 215200.\n",
            " 180000.  79000. 192000. 282922. 235000. 132000. 325000.  80000. 237000.\n",
            " 208300. 100000. 120500. 162000. 153000. 187000. 185750. 335000. 129000.\n",
            " 124900. 185750. 133700. 127000. 230000. 146800. 157900. 136000. 153575.\n",
            " 335000. 177500. 143000. 202500. 168500. 105000. 305900. 192000. 190000.\n",
            " 140200. 134900. 128950. 213000. 108959. 149500. 190000. 175900. 160000.\n",
            " 250580. 157000. 120500. 147500. 118000. 117000. 110000. 130000. 148500.\n",
            " 148000. 190000. 130500. 127000. 120500. 135000. 168000. 176432. 128000.\n",
            " 147000. 260000. 132000. 129500. 171000. 181134. 227875. 189000. 282922.\n",
            "  94750. 185000. 194000. 159000. 279500. 290000. 135000. 299800. 165000.\n",
            " 394432. 135750. 155000. 212000. 310000. 134800.  84000. 122900.  80000.\n",
            " 191000. 755000. 147000. 248000. 106500. 145000. 359100. 145000. 192500.\n",
            " 149000. 252000. 109000. 215000. 220000. 138500. 185000. 185000. 120500.\n",
            " 181000. 173000. 335000.  67000. 149350.  67000. 156000. 119000. 110500.\n",
            " 184000. 147000. 156000. 171000. 177000. 159000. 125000. 105000. 284000.\n",
            " 167500. 200000. 312500. 213000. 135960. 205000. 237000. 107000. 163000.\n",
            " 132500. 155835. 165500. 138500. 257000. 160000. 394617. 281213. 161000.\n",
            " 127500.  88000. 139000.  89500. 132500. 134800. 335000. 248900. 155000.\n",
            " 147000.  86000. 185000. 200000. 180500. 215200. 319900. 105000. 194000.\n",
            " 340000. 256000. 280000. 186500. 105500. 155000. 133500. 255500. 253000.\n",
            " 130000.  92900. 256000. 100000. 755000. 138500. 168500. 112000. 127000.\n",
            " 109008. 197000. 245500. 171900. 162000. 128000. 173000. 132000. 118000.\n",
            " 235128. 118964. 260000. 116000. 185000. 315750. 236500. 140000. 151500.\n",
            " 184000.  84000. 130000. 154000. 205000. 110000. 151500. 123000. 129500.\n",
            " 173900. 181500. 165500. 106500. 184900.  84500. 377500. 118500. 180000.\n",
            " 190000. 208500. 181000.  98000. 157000. 151500.  84000. 139000. 100000.\n",
            " 161750. 165600. 116000. 118500. 187000. 147000. 112000. 132000. 230000.\n",
            " 128000. 147000. 125000. 145000. 151000. 284000. 221000. 140200. 129000.\n",
            " 290000. 105000.  96500. 310000. 140000. 132000. 203000. 221000. 215200.\n",
            " 214000. 139000.  91500. 148000. 155000. 115000. 180000. 165500. 223000.\n",
            " 139000. 179900. 150000. 185000. 163000. 176000. 127000. 227000. 146000.\n",
            "  99900. 275000. 180500. 180000. 157000. 186500. 179900. 137500. 219500.\n",
            " 155000. 345000. 197000. 205000. 159000. 159434. 156000. 196000. 252678.\n",
            " 255500. 213000. 150900. 143750. 139000. 260000. 189000. 213250. 207500.\n",
            "  80000. 221000. 109500. 155000. 165000. 149350. 204900. 105900. 155000.\n",
            " 176000. 395000. 149700. 147000. 143900. 226700. 176000. 116000. 325300.\n",
            " 133750. 188500. 148500. 284000. 201800.]\n",
            "258     231500\n",
            "267     179500\n",
            "288     122000\n",
            "649      84500\n",
            "1233    142000\n",
            "         ...  \n",
            "1017    187500\n",
            "534     178000\n",
            "1334    125000\n",
            "1369    232000\n",
            "628     135000\n",
            "Name: SalePrice, Length: 365, dtype: int64\n"
          ]
        }
      ]
    },
    {
      "cell_type": "markdown",
      "metadata": {
        "id": "P9vKA_7aBjpP"
      },
      "source": [
        "## Step 4: Calculate the Mean Absolute Error in Validation Data\n"
      ]
    },
    {
      "cell_type": "code",
      "metadata": {
        "colab": {
          "base_uri": "https://localhost:8080/",
          "height": 62
        },
        "id": "5VLPBh6LBjpP",
        "outputId": "6b805c6b-b616-47f1-88a6-b26710944ffb"
      },
      "source": [
        "from sklearn.metrics import mean_absolute_error\n",
        "val_mae = mean_absolute_error(val_y, val_predictions)\n",
        "\n",
        "# uncomment following line to see the validation_mae\n",
        "print(val_mae)\n",
        "\n",
        "# Check your answer\n",
        "step_4.check()"
      ],
      "execution_count": 11,
      "outputs": [
        {
          "output_type": "stream",
          "name": "stdout",
          "text": [
            "29652.931506849316\n"
          ]
        },
        {
          "output_type": "display_data",
          "data": {
            "application/javascript": [
              "parent.postMessage({\"jupyterEvent\": \"custom.exercise_interaction\", \"data\": {\"outcomeType\": 1, \"valueTowardsCompletion\": 0.25, \"interactionType\": 1, \"questionType\": 1, \"questionId\": \"4_MAE\", \"learnToolsVersion\": \"0.3.4\", \"failureMessage\": \"\", \"exceptionClass\": \"\", \"trace\": \"\"}}, \"*\")"
            ],
            "text/plain": [
              "<IPython.core.display.Javascript object>"
            ]
          },
          "metadata": {}
        },
        {
          "output_type": "display_data",
          "data": {
            "text/markdown": "<span style=\"color:#33cc33\">Correct</span>",
            "text/plain": [
              "Correct"
            ]
          },
          "metadata": {}
        }
      ]
    },
    {
      "cell_type": "code",
      "metadata": {
        "colab": {
          "base_uri": "https://localhost:8080/",
          "height": 86
        },
        "id": "LZuLR65qBjpQ",
        "outputId": "afef6bda-b282-4077-d88b-7feac4dbcf75"
      },
      "source": [
        "step_4.hint()\n",
        "step_4.solution()"
      ],
      "execution_count": 12,
      "outputs": [
        {
          "output_type": "display_data",
          "data": {
            "application/javascript": [
              "parent.postMessage({\"jupyterEvent\": \"custom.exercise_interaction\", \"data\": {\"interactionType\": 2, \"questionType\": 1, \"questionId\": \"4_MAE\", \"learnToolsVersion\": \"0.3.4\", \"valueTowardsCompletion\": 0.0, \"failureMessage\": \"\", \"exceptionClass\": \"\", \"trace\": \"\", \"outcomeType\": 4}}, \"*\")"
            ],
            "text/plain": [
              "<IPython.core.display.Javascript object>"
            ]
          },
          "metadata": {}
        },
        {
          "output_type": "display_data",
          "data": {
            "text/markdown": "<span style=\"color:#3366cc\">Hint:</span> The order of arguments to mean_absolute_error doesn't matter. Make sure you fit to only the training data in step 2.",
            "text/plain": [
              "Hint: The order of arguments to mean_absolute_error doesn't matter. Make sure you fit to only the training data in step 2."
            ]
          },
          "metadata": {}
        },
        {
          "output_type": "display_data",
          "data": {
            "application/javascript": [
              "parent.postMessage({\"jupyterEvent\": \"custom.exercise_interaction\", \"data\": {\"interactionType\": 3, \"questionType\": 1, \"questionId\": \"4_MAE\", \"learnToolsVersion\": \"0.3.4\", \"valueTowardsCompletion\": 0.0, \"failureMessage\": \"\", \"exceptionClass\": \"\", \"trace\": \"\", \"outcomeType\": 4}}, \"*\")"
            ],
            "text/plain": [
              "<IPython.core.display.Javascript object>"
            ]
          },
          "metadata": {}
        },
        {
          "output_type": "display_data",
          "data": {
            "text/markdown": "<span style=\"color:#33cc99\">Solution:</span> \n```python\nval_mae = mean_absolute_error(val_predictions, val_y)\n```",
            "text/plain": [
              "Solution: \n",
              "```python\n",
              "val_mae = mean_absolute_error(val_predictions, val_y)\n",
              "```"
            ]
          },
          "metadata": {}
        }
      ]
    }
  ]
}